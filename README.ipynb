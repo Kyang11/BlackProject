{
 "cells": [
  {
   "cell_type": "markdown",
   "id": "04ac120a",
   "metadata": {},
   "source": [
    "\n",
    "#### BlackJack OOP Project\n",
    "**Description**: Create a Blackjack game using Python.\n",
    "#### Group Members\n",
    "- Aydee Reichert\n",
    "- Ku Yang"
   ]
  },
  {
   "cell_type": "markdown",
   "id": "6655da55",
   "metadata": {},
   "source": [
    "#### Aydee Reichert\n",
    "- Created the README and OOP structure for the project.\n",
    "- Collaborated on the OOP for the Blackjack game."
   ]
  },
  {
   "cell_type": "markdown",
   "id": "e34c71f1",
   "metadata": {},
   "source": [
    "\n",
    "## BlackJack OOP Project\n",
    "**Description**: Create a Blackjack game using Python.\n",
    "### Group Members\n",
    "- Aydee Reichert\n",
    "- Ku Yang\n",
    "#### Aydee Reichert\n",
    "- Created the README and OOP structure for the project.\n",
    "- Collaborated on the OOP for the Blackjack game.\n",
    "#### Ku Yang\n",
    "- Created some of the functions for the project\n",
    "- Collaborated on the OOP for the Blackjack game.\n",
    "\n",
    "\n",
    "\n",
    "\n",
    "\n"
   ]
  },
  {
   "cell_type": "code",
   "execution_count": null,
   "id": "6325b17d",
   "metadata": {},
   "outputs": [],
   "source": []
  },
  {
   "cell_type": "code",
   "execution_count": null,
   "id": "abda8bb3",
   "metadata": {},
   "outputs": [],
   "source": []
  }
 ],
 "metadata": {
  "kernelspec": {
   "display_name": "Python 3 (ipykernel)",
   "language": "python",
   "name": "python3"
  },
  "language_info": {
   "codemirror_mode": {
    "name": "ipython",
    "version": 3
   },
   "file_extension": ".py",
   "mimetype": "text/x-python",
   "name": "python",
   "nbconvert_exporter": "python",
   "pygments_lexer": "ipython3",
   "version": "3.9.7"
  }
 },
 "nbformat": 4,
 "nbformat_minor": 5
}
